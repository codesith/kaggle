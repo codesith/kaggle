{
 "cells": [
  {
   "cell_type": "code",
   "execution_count": 41,
   "metadata": {},
   "outputs": [],
   "source": [
    "import pandas as pd\n",
    "from sklearn.ensemble import RandomForestClassifier\n",
    "from sklearn import svm\n",
    "from sklearn.model_selection import train_test_split\n",
    "from sklearn.metrics import accuracy_score"
   ]
  },
  {
   "cell_type": "code",
   "execution_count": 2,
   "metadata": {},
   "outputs": [],
   "source": [
    "train_data = pd.read_csv('data/train.csv')"
   ]
  },
  {
   "cell_type": "code",
   "execution_count": 85,
   "metadata": {},
   "outputs": [],
   "source": [
    "# Sex: 1 for male, 0 for female\n",
    "train_data['Sex_Num'] = train_data['Sex'].apply(lambda x: 1 if x=='male' else 0)\n",
    "# Cabin: 0 for NaN, otherwise use ascii value for the first lettle of cabin\n",
    "train_data['Cabin_Num'] = train_data['Cabin'].apply(lambda x: '0' if pd.isnull(x) else ord(x[0]))\n",
    "# Age: -1 for NaN\n",
    "train_data['Age_Num'] = train_data['Age'].apply(lambda x: -1 if pd.isnull(x) else x)"
   ]
  },
  {
   "cell_type": "code",
   "execution_count": 122,
   "metadata": {},
   "outputs": [],
   "source": [
    "train_data['Features'] = train_data.apply(lambda x: [x['Pclass'], x['SibSp'], x['Parch'], x['Fare'], x['Sex_Num'], x['Age_Num'], x['Cabin_Num']], axis=1)\n",
    "train, test = train_test_split(train_data, test_size=0.20)"
   ]
  },
  {
   "cell_type": "code",
   "execution_count": 123,
   "metadata": {},
   "outputs": [],
   "source": [
    "models = []\n",
    "models.append({'name':\"Random Forest\", 'classifer':RandomForestClassifier()})\n",
    "models.append({'name':\"Support Vector Linear\", 'classifer':svm.SVC(kernel='linear')})\n",
    "models.append({'name':\"Support Vector Radial Basis Function\", 'classifer':svm.SVC(kernel='rbf')})"
   ]
  },
  {
   "cell_type": "code",
   "execution_count": 126,
   "metadata": {},
   "outputs": [],
   "source": [
    "results = []\n",
    "for model in models:\n",
    "    name = model['name']\n",
    "    clf = model['classifer']\n",
    "    clf.fit(train['Features'].values.tolist(),train['Survived'].values.tolist())\n",
    "    train_accuracy = accuracy_score(train['Survived'], clf.predict(train['Features'].values.tolist()))\n",
    "    test_accuracy = accuracy_score(test['Survived'], clf.predict(test['Features'].values.tolist()))\n",
    "    results.append([name, str(round(train_accuracy*100, 2))+'%', str(round(test_accuracy*100, 2))+'%'])"
   ]
  },
  {
   "cell_type": "code",
   "execution_count": 127,
   "metadata": {},
   "outputs": [
    {
     "data": {
      "text/plain": [
       "[['Random Forest', '97.33%', '77.65%'],\n",
       " ['Support Vector Linear', '79.92%', '73.74%'],\n",
       " ['Support Vector Radial Basis Function', '92.56%', '59.78%']]"
      ]
     },
     "execution_count": 127,
     "metadata": {},
     "output_type": "execute_result"
    }
   ],
   "source": [
    "results"
   ]
  },
  {
   "cell_type": "code",
   "execution_count": null,
   "metadata": {},
   "outputs": [],
   "source": []
  },
  {
   "cell_type": "code",
   "execution_count": null,
   "metadata": {},
   "outputs": [],
   "source": []
  }
 ],
 "metadata": {
  "kernelspec": {
   "display_name": "Python 3",
   "language": "python",
   "name": "python3"
  },
  "language_info": {
   "codemirror_mode": {
    "name": "ipython",
    "version": 3
   },
   "file_extension": ".py",
   "mimetype": "text/x-python",
   "name": "python",
   "nbconvert_exporter": "python",
   "pygments_lexer": "ipython3",
   "version": "3.5.2"
  }
 },
 "nbformat": 4,
 "nbformat_minor": 2
}
